{
 "cells": [
  {
   "cell_type": "code",
   "execution_count": 9,
   "metadata": {},
   "outputs": [],
   "source": [
    "from lipi import Lipi, Glyph\n",
    "from IPython.display import SVG"
   ]
  },
  {
   "cell_type": "code",
   "execution_count": 12,
   "metadata": {},
   "outputs": [],
   "source": [
    "POPPINS = \"C:/Users/abhon/Downloads/Fonts/Poppins/Poppins-Regular.ttf\"\n",
    "NOTO_SANS = \"C:/Users/abhon/Downloads/Fonts/Noto_Sans/NotoSans-Regular.ttf\"\n",
    "fontpath = POPPINS\n",
    "\n",
    "DEVANAGRI = \"देवनागरी\"\n",
    "ARCHIT = \"अर्चित\"\n",
    "ANNUCHED = \"अनुच्छेद\"\n",
    "COMPLEX = \"र्क्स्ल्पि\"\n",
    "\n",
    "text = DEVANAGRI"
   ]
  },
  {
   "cell_type": "code",
   "execution_count": 13,
   "metadata": {},
   "outputs": [
    {
     "name": "stdout",
     "output_type": "stream",
     "text": [
      "start preprocess-text\n",
      "end preprocess-text\n",
      "start reorder\n",
      "end reorder\n",
      "start table GSUB\n",
      "start reordering indic initial\n",
      "end reordering indic initial\n",
      "start lookup 0\n",
      "end lookup 0\n",
      "start lookup 1\n",
      "end lookup 1\n",
      "start lookup 2\n",
      "end lookup 2\n",
      "start lookup 3\n",
      "end lookup 3\n",
      "start lookup 4\n",
      "end lookup 4\n",
      "start lookup 5\n",
      "end lookup 5\n",
      "start lookup 7\n",
      "end lookup 7\n",
      "start lookup 8\n",
      "end lookup 8\n",
      "start reordering indic final\n",
      "end reordering indic final\n",
      "start lookup 10\n",
      "end lookup 10\n",
      "start lookup 11\n",
      "end lookup 11\n",
      "start lookup 14\n",
      "end lookup 14\n",
      "start lookup 15\n",
      "end lookup 15\n",
      "start lookup 16\n",
      "end lookup 16\n",
      "start lookup 17\n",
      "end lookup 17\n",
      "start lookup 18\n",
      "end lookup 18\n",
      "start lookup 19\n",
      "end lookup 19\n",
      "end table GSUB\n",
      "start table GPOS\n",
      "start lookup 0\n",
      "attaching mark glyph at 1 to glyph at 0\n",
      "attached mark glyph at 1 to glyph at 0\n",
      "end lookup 0\n",
      "start lookup 1\n",
      "end lookup 1\n",
      "start lookup 2\n",
      "end lookup 2\n",
      "start lookup 3\n",
      "end lookup 3\n",
      "end table GPOS\n"
     ]
    },
    {
     "data": {
      "image/svg+xml": "<svg xmlns=\"http://www.w3.org/2000/svg\" viewBox=\"0 0 3941 1400\" transform=\"matrix(1 0 0 -1 0 0)\">\n<path d=\"M208.0,445.0Q155.0,402.0 155.0,323.0Q155.0,252.0 197.5,209.0Q240.0,166.0 312.0,166.0Q347.0,166.0 379.5,181.0Q412.0,196.0 433.0,226.5Q454.0,257.0 454.0,302.0L531.0,302.0L531.0,-16.0L449.0,-16.0L449.0,176.0Q428.0,141.0 385.5,120.0Q343.0,99.0 290.0,99.0Q226.0,99.0 176.0,126.0Q126.0,153.0 98.0,204.0Q70.0,255.0 70.0,326.0Q70.0,402.0 105.0,454.5Q140.0,507.0 200.5,533.5Q261.0,560.0 336.0,560.0L408.0,560.0L408.0,670.0L-27.0,670.0L-27.0,740.0L636.0,740.0L635.0,670.0L491.0,670.0L491.0,488.0L343.0,488.0Q261.0,488.0 208.0,445.0Z\" transform=\"translate(0, 350)\" fill=\"red\"/>\n<path d=\"M-185.0,736.0Q-237.0,818.0 -270.5,854.5Q-304.0,891.0 -335.0,902.0Q-366.0,913.0 -420.0,913.0L-462.0,913.0L-462.0,981.0L-421.0,981.0Q-348.0,981.0 -305.0,966.0Q-262.0,951.0 -217.0,900.0Q-172.0,849.0 -106.0,736.0L-185.0,736.0Z\" transform=\"translate(597, 350)\" fill=\"green\"/>\n<path d=\"M701.0,740.0L701.0,670.0L569.0,670.0L569.0,0.0L488.0,0.0L488.0,201.0Q462.0,153.0 413.5,124.5Q365.0,96.0 298.0,96.0Q231.0,96.0 179.0,125.5Q127.0,155.0 98.5,208.5Q70.0,262.0 70.0,333.0Q70.0,401.0 99.0,453.0Q128.0,505.0 180.0,534.0Q232.0,563.0 298.0,563.0Q366.0,563.0 414.5,534.5Q463.0,506.0 488.0,458.0L488.0,670.0L-27.0,670.0L-27.0,740.0L701.0,740.0ZM412.5,187.5Q451.0,212.0 469.5,250.0Q488.0,288.0 488.0,328.0L488.0,329.0Q488.0,371.0 469.5,409.0Q451.0,447.0 412.5,471.0Q374.0,495.0 319.0,495.0Q272.0,495.0 234.0,475.0Q196.0,455.0 174.0,417.5Q152.0,380.0 152.0,330.0Q152.0,253.0 199.0,208.0Q246.0,163.0 319.0,163.0Q374.0,163.0 412.5,187.5Z\" transform=\"translate(609, 350)\" fill=\"blue\"/>\n<path d=\"M816.0,670.0L684.0,670.0L684.0,0.0L601.0,0.0L601.0,434.0L406.0,434.0Q431.0,410.0 445.5,376.0Q460.0,342.0 460.0,301.0Q460.0,245.0 434.5,203.0Q409.0,161.0 365.0,139.0Q321.0,117.0 266.0,117.0Q209.0,117.0 162.5,141.0Q116.0,165.0 89.5,208.5Q63.0,252.0 63.0,310.0Q63.0,370.0 90.5,414.0Q118.0,458.0 165.5,481.0Q213.0,504.0 273.0,504.0L601.0,504.0L601.0,670.0L-27.0,670.0L-27.0,740.0L816.0,740.0L816.0,670.0ZM357.5,222.5Q393.0,257.0 393.0,311.0Q393.0,364.0 357.5,399.0Q322.0,434.0 267.0,434.0Q211.0,434.0 175.0,399.5Q139.0,365.0 139.0,310.0Q139.0,256.0 174.5,222.0Q210.0,188.0 267.0,188.0Q322.0,188.0 357.5,222.5Z\" transform=\"translate(1283, 350)\" fill=\"red\"/>\n<path d=\"M105.0,0.0L105.0,670.0L-27.0,670.0L-27.0,740.0L320.0,740.0L320.0,670.0L189.0,670.0L189.0,0.0L105.0,0.0Z\" transform=\"translate(2072, 350)\" fill=\"green\"/>\n<path d=\"M772.0,740.0L772.0,670.0L640.0,670.0L640.0,0.0L557.0,0.0L557.0,670.0L379.0,670.0L379.0,400.0Q379.0,322.0 338.5,273.0Q298.0,224.0 215.0,224.0Q134.0,224.0 91.0,270.5Q48.0,317.0 48.0,395.0L48.0,425.0L130.0,425.0L130.0,394.0Q130.0,353.0 149.5,324.5Q169.0,296.0 212.0,296.0Q258.0,296.0 276.5,324.5Q295.0,353.0 295.0,397.0L295.0,670.0L-27.0,670.0L-27.0,740.0L772.0,740.0Z\" transform=\"translate(2366, 350)\" fill=\"blue\"/>\n<path d=\"M165.0,339.0L165.0,202.0Q165.0,139.0 194.0,101.0Q223.0,63.0 279.0,63.0Q332.0,63.0 362.5,98.5Q393.0,134.0 393.0,192.0L393.0,211.0L473.0,211.0L473.0,194.0Q473.0,101.0 421.5,46.0Q370.0,-9.0 281.0,-9.0Q184.0,-9.0 133.5,50.0Q83.0,109.0 83.0,207.0L83.0,407.0L188.0,407.0Q359.0,407.0 359.0,574.0L359.0,670.0L-27.0,670.0L-27.0,740.0L562.0,740.0L562.0,670.0L442.0,670.0L442.0,574.0Q442.0,460.0 386.0,399.5Q330.0,339.0 216.0,339.0L165.0,339.0Z\" transform=\"translate(3112, 350)\" fill=\"red\"/>\n<path d=\"M320.0,740.0L320.0,670.0L189.0,670.0L189.0,0.0L105.0,0.0L105.0,670.0L-27.0,670.0L-27.0,740.0L107.0,740.0L107.0,782.0Q107.0,844.0 83.0,885.0Q59.0,926.0 1.0,926.0Q-58.0,926.0 -82.5,885.0Q-107.0,844.0 -107.0,782.0L-107.0,720.0L-189.0,720.0L-189.0,778.0Q-189.0,877.0 -143.5,936.5Q-98.0,996.0 1.0,996.0Q101.0,996.0 145.0,937.0Q189.0,878.0 189.0,778.0L189.0,740.0L320.0,740.0Z\" transform=\"translate(3647, 350)\" fill=\"green\"/>\n<rect x=\"-27.0\" y=\"334.0\" width=\"663.0\" height=\"756.0\" fill=\"none\" stroke=\"red\" stroke-width=\"5\"/>\n<rect x=\"147.0\" y=\"1086.0\" width=\"356.0\" height=\"245.0\" fill=\"none\" stroke=\"green\" stroke-width=\"5\"/>\n<rect x=\"582.0\" y=\"350.0\" width=\"728.0\" height=\"740.0\" fill=\"none\" stroke=\"blue\" stroke-width=\"5\"/>\n<rect x=\"1256.0\" y=\"350.0\" width=\"843.0\" height=\"740.0\" fill=\"none\" stroke=\"red\" stroke-width=\"5\"/>\n<rect x=\"2045.0\" y=\"350.0\" width=\"347.0\" height=\"740.0\" fill=\"none\" stroke=\"green\" stroke-width=\"5\"/>\n<rect x=\"2339.0\" y=\"350.0\" width=\"799.0\" height=\"740.0\" fill=\"none\" stroke=\"blue\" stroke-width=\"5\"/>\n<rect x=\"3085.0\" y=\"341.0\" width=\"589.0\" height=\"749.0\" fill=\"none\" stroke=\"red\" stroke-width=\"5\"/>\n<rect x=\"3458.0\" y=\"350.0\" width=\"509.0\" height=\"996.0\" fill=\"none\" stroke=\"green\" stroke-width=\"5\"/>\n</svg>",
      "text/plain": [
       "<IPython.core.display.SVG object>"
      ]
     },
     "execution_count": 13,
     "metadata": {},
     "output_type": "execute_result"
    }
   ],
   "source": [
    "lipi = Lipi(fontpath)\n",
    "buf = lipi.shape(text)\n",
    "glyphs = Glyph.parseGlyphs(buf.glyph_infos, buf.glyph_positions)\n",
    "\n",
    "SVG(lipi.getHbBufferSVG(buf))"
   ]
  },
  {
   "cell_type": "code",
   "execution_count": null,
   "metadata": {},
   "outputs": [],
   "source": []
  }
 ],
 "metadata": {
  "kernelspec": {
   "display_name": "Python 3.10.5 64-bit",
   "language": "python",
   "name": "python3"
  },
  "language_info": {
   "codemirror_mode": {
    "name": "ipython",
    "version": 3
   },
   "file_extension": ".py",
   "mimetype": "text/x-python",
   "name": "python",
   "nbconvert_exporter": "python",
   "pygments_lexer": "ipython3",
   "version": "3.10.5"
  },
  "orig_nbformat": 4,
  "vscode": {
   "interpreter": {
    "hash": "369f2c481f4da34e4445cda3fffd2e751bd1c4d706f27375911949ba6bb62e1c"
   }
  }
 },
 "nbformat": 4,
 "nbformat_minor": 2
}
